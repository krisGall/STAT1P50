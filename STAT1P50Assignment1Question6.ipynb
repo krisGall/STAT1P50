{
 "cells": [
  {
   "cell_type": "code",
   "execution_count": 2,
   "id": "9455eb24",
   "metadata": {},
   "outputs": [
    {
     "name": "stdout",
     "output_type": "stream",
     "text": [
      "{6: 0.45454545454545453, 4: 0.7272727272727273, 3: 1.0, 5: 0.6363636363636364, 7: 0.18181818181818182, 8: 0.09090909090909091}\n"
     ]
    }
   ],
   "source": [
    "def generateProportionalKeyDictionary(inputList):\n",
    "    '''\n",
    "    generateProportionalKeyDictionary takes input 'inputList' and\n",
    "    creates a dictionary where the key is each unique value in the\n",
    "    list and the value of each key is the proportion of numbers in\n",
    "    the input list that are smaller\n",
    "    '''\n",
    "    proportionalKeyDictionary = {}\n",
    "    loopCount = len(inputList)\n",
    "    \n",
    "    # looping for every number in 'inputList'\n",
    "    for number in inputList:\n",
    "        smallerNumberCount = 0 # --> counts smaller numbers\n",
    "        # loops through the list to check every number against the current number\n",
    "        for numberToCheck in inputList:\n",
    "            if number <= numberToCheck:\n",
    "                smallerNumberCount += 1\n",
    "        proportionalKeyDictionary[number] = smallerNumberCount/len(inputList) # --> creates the proportion\n",
    "    \n",
    "    return proportionalKeyDictionary\n",
    "\n",
    "# testing list\n",
    "listToTest = [6,4,3,3,5,6,6,7,8,5,3]\n",
    "\n",
    "# calling function generateProportionalKeyDictionary on 'listToTest'\n",
    "proportionalKeyDictionary = generateProportionalKeyDictionary(listToTest)\n",
    "print(proportionalKeyDictionary)\n",
    "    "
   ]
  },
  {
   "cell_type": "code",
   "execution_count": null,
   "id": "cfe83dfa",
   "metadata": {},
   "outputs": [],
   "source": []
  }
 ],
 "metadata": {
  "kernelspec": {
   "display_name": "Python 3 (ipykernel)",
   "language": "python",
   "name": "python3"
  },
  "language_info": {
   "codemirror_mode": {
    "name": "ipython",
    "version": 3
   },
   "file_extension": ".py",
   "mimetype": "text/x-python",
   "name": "python",
   "nbconvert_exporter": "python",
   "pygments_lexer": "ipython3",
   "version": "3.10.6"
  }
 },
 "nbformat": 4,
 "nbformat_minor": 5
}
