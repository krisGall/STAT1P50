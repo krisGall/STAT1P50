{
 "cells": [
  {
   "cell_type": "code",
   "execution_count": 1,
   "id": "c61675a5",
   "metadata": {},
   "outputs": [
    {
     "name": "stdout",
     "output_type": "stream",
     "text": [
      "5  to the power  6  =  15625\n",
      "5  to the power  7  =  78125\n",
      "4  to the power  2  =  16\n",
      "3  to the power  6  =  729\n",
      "9  to the power  8  =  43046721\n",
      "1  to the power  3  =  1\n",
      "9  to the power  3  =  729\n",
      "7  to the power  1  =  7\n",
      "5  to the power  4  =  625\n",
      "2  to the power  7  =  128\n",
      "9  to the power  1  =  9\n",
      "9  to the power  3  =  729\n",
      "2  to the power  5  =  32\n"
     ]
    }
   ],
   "source": [
    "#list 'l' given in assignment\n",
    "l = [[5,6],[5,7],[4,2],[3,6],[9,8],[1,3],[9,3],[7,1],[5,4],[2,7],\n",
    "     [9,1], [9,3], [2,5]]\n",
    "'''\n",
    "function xPowerY takes 2 arguements from a pair and sets the value of\n",
    "a new variable xPowerY equal to element 1 to the power of element 2\n",
    "'''\n",
    "def xPowerY(x,y):\n",
    "    return x**y\n",
    "\n",
    "#Loop to iterate through list 'l' and apply function xPowerY\n",
    "for index in l:\n",
    "    result = xPowerY(*index)\n",
    "    print(index[0],\" to the power \",index[1],\" = \",result)\n"
   ]
  },
  {
   "cell_type": "code",
   "execution_count": null,
   "id": "90580759",
   "metadata": {},
   "outputs": [],
   "source": []
  }
 ],
 "metadata": {
  "kernelspec": {
   "display_name": "Python 3 (ipykernel)",
   "language": "python",
   "name": "python3"
  },
  "language_info": {
   "codemirror_mode": {
    "name": "ipython",
    "version": 3
   },
   "file_extension": ".py",
   "mimetype": "text/x-python",
   "name": "python",
   "nbconvert_exporter": "python",
   "pygments_lexer": "ipython3",
   "version": "3.10.6"
  }
 },
 "nbformat": 4,
 "nbformat_minor": 5
}
