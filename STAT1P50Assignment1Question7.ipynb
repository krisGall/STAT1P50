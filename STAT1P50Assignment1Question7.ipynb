{
 "cells": [
  {
   "cell_type": "code",
   "execution_count": 4,
   "id": "bd92e16b",
   "metadata": {},
   "outputs": [
    {
     "name": "stdout",
     "output_type": "stream",
     "text": [
      "Seconds given are greater then 24 hours\n",
      "8 43 20 PM\n"
     ]
    }
   ],
   "source": [
    "def secondsToTwelveHourTime(inputSeconds):\n",
    "    '''\n",
    "    secondsToTwelveHourTime takes an amount of seconds and returns the\n",
    "    time elapsed since midnight in twelve hour time (e.g AM/PM). The function\n",
    "    ends if it is given a value larger then 24 hours.\n",
    "    '''\n",
    "    # The values below will be used in this function:\n",
    "    # 1 minute = 60 seconds\n",
    "    # 1 hour = 3600 seconds\n",
    "    # 12 hours = 43200 seconds\n",
    "    # 1 day = 86400 seconds\n",
    "    \n",
    "    # Checking if the seconds given are greater then 1 day\n",
    "    if inputSeconds > 86400:\n",
    "        print(\"Seconds given are greater then 24 hours\")\n",
    "    \n",
    "    # Truncating the extra days from 'inputSeconds'\n",
    "    while inputSeconds > 86400:\n",
    "        inputSeconds -= 86000;\n",
    "    \n",
    "    # Checking if value is in AM or PM\n",
    "    if inputSeconds < 43200:\n",
    "        timeOfDay = 'AM'\n",
    "        \n",
    "    elif inputSeconds >= 43200:\n",
    "        timeOfDay = 'PM'\n",
    "        inputSeconds -= 43200  \n",
    "    \n",
    "    # Setting seconds to the cleaned inputSeconds\n",
    "    secondsToConvert = inputSeconds\n",
    "    \n",
    "    # Counting then removing hours from secondsToConvert\n",
    "    hours = secondsToConvert // 3600\n",
    "    secondsToConvert -= hours*3600\n",
    "    \n",
    "    # Counting then removing minutes from secondsToConvert\n",
    "    minutes = secondsToConvert // 60\n",
    "    secondsToConvert -= minutes*60\n",
    "    \n",
    "    # Remaining seconds are the second value\n",
    "    seconds = secondsToConvert\n",
    "    \n",
    "    return hours, minutes, seconds, timeOfDay\n",
    " \n",
    "    \n",
    "# Arbitrary amount of seconds given\n",
    "secondsGiven = 530350600\n",
    "\n",
    "# Calling function 'secondsToTwelveHourTime' and storing return values\n",
    "timeConverted = secondsToTwelveHourTime(secondsGiven)\n",
    "hours, minutes, seconds, timeOfDay = timeConverted[0:4]\n",
    "\n",
    "#Output\n",
    "print(hours, minutes, seconds, timeOfDay)\n"
   ]
  }
 ],
 "metadata": {
  "kernelspec": {
   "display_name": "Python 3 (ipykernel)",
   "language": "python",
   "name": "python3"
  },
  "language_info": {
   "codemirror_mode": {
    "name": "ipython",
    "version": 3
   },
   "file_extension": ".py",
   "mimetype": "text/x-python",
   "name": "python",
   "nbconvert_exporter": "python",
   "pygments_lexer": "ipython3",
   "version": "3.10.6"
  }
 },
 "nbformat": 4,
 "nbformat_minor": 5
}
