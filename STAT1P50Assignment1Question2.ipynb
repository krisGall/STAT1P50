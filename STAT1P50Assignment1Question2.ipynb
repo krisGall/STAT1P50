{
 "cells": [
  {
   "cell_type": "code",
   "execution_count": 14,
   "id": "1c5d6eeb",
   "metadata": {},
   "outputs": [
    {
     "name": "stdout",
     "output_type": "stream",
     "text": [
      "{'camel': 5, 'horse': 5, 'cork': 4, 'card': 4, 'hat': 3, 'cat': 3}\n"
     ]
    }
   ],
   "source": [
    "\n",
    "def convertListToDict(listToConvert):\n",
    "    '''\n",
    "    convertListToDict takes input of a list of strings\n",
    "    and outputs a dictionary of the string lengths using\n",
    "    the strings as keys\n",
    "    '''\n",
    "    # declaring variables to use\n",
    "    indexToConvert = len(listToConvert)-1 # --> -1 to offset for list index\n",
    "    stringLengthDictionary = {} # --> null dictionary to store key pairs in\n",
    "    \n",
    "    # while loop to iterate through listToConvert and add each value and it length to the dictionary\n",
    "    while indexToConvert >= 0:\n",
    "        stringLengthDictionary[listToConvert[indexToConvert]] = len(listToConvert[indexToConvert])\n",
    "        indexToConvert = indexToConvert - 1\n",
    "    \n",
    "    # returning filled dictionary\n",
    "    return stringLengthDictionary\n",
    "\n",
    "\n",
    "listOfStrings = [\"cat\", \"hat\", \"card\", \"cork\", \"horse\", \"camel\"] # --> list to use\n",
    "\n",
    "# calling convertListToDict function on the listOfStrings list\n",
    "stringLengthDictonary = convertListToDict(listOfStrings)\n",
    "# printing stringLengthDictionary\n",
    "print(stringLengthDictonary)"
   ]
  },
  {
   "cell_type": "code",
   "execution_count": null,
   "id": "3dd16343",
   "metadata": {},
   "outputs": [],
   "source": []
  }
 ],
 "metadata": {
  "kernelspec": {
   "display_name": "Python 3 (ipykernel)",
   "language": "python",
   "name": "python3"
  },
  "language_info": {
   "codemirror_mode": {
    "name": "ipython",
    "version": 3
   },
   "file_extension": ".py",
   "mimetype": "text/x-python",
   "name": "python",
   "nbconvert_exporter": "python",
   "pygments_lexer": "ipython3",
   "version": "3.10.6"
  }
 },
 "nbformat": 4,
 "nbformat_minor": 5
}
