{
 "cells": [
  {
   "cell_type": "code",
   "execution_count": 30,
   "id": "9d9b1bea",
   "metadata": {},
   "outputs": [
    {
     "name": "stdout",
     "output_type": "stream",
     "text": [
      "13\n"
     ]
    }
   ],
   "source": [
    "# importing libraries\n",
    "from random import random\n",
    "\n",
    "# randomly filling list 'l'\n",
    "l = [random() for i in range(20)]\n",
    "# generating a random x\n",
    "x = random()\n",
    "\n",
    "\n",
    "def numberSort(listToSort):\n",
    "    '''\n",
    "    function numberSort sorts a list of numbers from lowest to highest\n",
    "    '''\n",
    "    sortedList = [] # --> creating a null list to sort into\n",
    "    \n",
    "    # Loop checks if list is empty, then looks for the lowest number\n",
    "    # in the list and adds it to the end of the sorted list and removes\n",
    "    # the added number from the input list\n",
    "    while len(listToSort) > 0:\n",
    "        numberToAppend = min(listToSort)\n",
    "        sortedList.append(numberToAppend)\n",
    "        listToSort.pop(listToSort.index(min(listToSort)))\n",
    "    \n",
    "    # returning sorted list\n",
    "    return sortedList\n",
    "\n",
    "\n",
    "def listSearchIndexFirstGreaterEqualTo(listToCompare, numberToCompare):\n",
    "    '''\n",
    "    function listSearchIndexFirstGreaterEqualTo take input list 'listToCompare'\n",
    "    and input variable 'numberToCompare' and compares elements of the list\n",
    "    to the number given and returns the index of first one that is greater or equal\n",
    "    the given number.\n",
    "    '''\n",
    "    for number in listToCompare:\n",
    "        if number >= numberToCompare:\n",
    "            return listToCompare.index(number)\n",
    "        \n",
    "# calling function numberSort on list 'l'       \n",
    "sortedL = numberSort(l)\n",
    "# calling function listSearchIndexFirstGreaterEqualTo on 'sortedL' and 'x'\n",
    "firstIndexGreaterEqualTo = listSearchIndexFirstGreaterEqualTo(sortedL, x)\n",
    "\n",
    "print(firstIndexGreaterEqualTo)\n"
   ]
  },
  {
   "cell_type": "code",
   "execution_count": null,
   "id": "c7b51d07",
   "metadata": {},
   "outputs": [],
   "source": []
  }
 ],
 "metadata": {
  "kernelspec": {
   "display_name": "Python 3 (ipykernel)",
   "language": "python",
   "name": "python3"
  },
  "language_info": {
   "codemirror_mode": {
    "name": "ipython",
    "version": 3
   },
   "file_extension": ".py",
   "mimetype": "text/x-python",
   "name": "python",
   "nbconvert_exporter": "python",
   "pygments_lexer": "ipython3",
   "version": "3.10.6"
  }
 },
 "nbformat": 4,
 "nbformat_minor": 5
}
