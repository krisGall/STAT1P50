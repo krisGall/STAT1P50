{
 "cells": [
  {
   "cell_type": "code",
   "execution_count": 1,
   "id": "23b2086f",
   "metadata": {},
   "outputs": [
    {
     "name": "stdout",
     "output_type": "stream",
     "text": [
      "Circle area =  201.06192982974676\n",
      "Circle area =  314.1592653589793\n",
      "The small circle covers 63.99999999999999 % of the large circle\n"
     ]
    }
   ],
   "source": [
    "# importing libraries\n",
    "from math import pi # --> using math.pi for approx. value of pi\n",
    "from random import randint # --> using random.randint to generate random int\n",
    "\n",
    "\n",
    "def generateCircleArea(radius):\n",
    "    '''\n",
    "    generateCircleArea generates a circle when given an input radius\n",
    "    and returns the area of the circle generated.\n",
    "    '''\n",
    "    # area of a circle = pi*r**2\n",
    "    circleArea = pi*radius**2\n",
    "    # outputting the result\n",
    "    print(\"Circle area = \",circleArea)\n",
    "    return circleArea    \n",
    "\n",
    "def circleAreaCompare(circleArea1, circleArea2):\n",
    "    '''\n",
    "    circleAreaCompare compares two circle areas and returns the percentage\n",
    "    that the smaller circle covers the larger circle\n",
    "    '''\n",
    "    # circleArea1 is larger\n",
    "    if circleArea1 > circleArea2:\n",
    "        return 100-(((circleArea1 - circleArea2)/circleArea1)*100)\n",
    "    # circleArea2 is larger\n",
    "    elif circleArea2 > circleArea1:\n",
    "        return 100-(((circleArea2 - circleArea1)/circleArea2)*100)\n",
    "    # both are equal\n",
    "    else:\n",
    "        return 100\n",
    "\n",
    "# list storing random value from 1-10 for radii\n",
    "radii = [randint(1,10), randint(1,10)]\n",
    "# getting the smaller circle coverage of the larger circle\n",
    "smallCircleCoveragePercentage = circleAreaCompare(generateCircleArea(radii[0]),\n",
    "                                                  generateCircleArea(radii[1]))\n",
    "# outputting the result\n",
    "print(\"The small circle covers\", smallCircleCoveragePercentage,\"% of the large circle\")\n",
    "\n",
    "    "
   ]
  },
  {
   "cell_type": "code",
   "execution_count": null,
   "id": "9a44f0cd",
   "metadata": {},
   "outputs": [],
   "source": []
  },
  {
   "cell_type": "code",
   "execution_count": null,
   "id": "9cddadd5",
   "metadata": {},
   "outputs": [],
   "source": []
  }
 ],
 "metadata": {
  "kernelspec": {
   "display_name": "Python 3 (ipykernel)",
   "language": "python",
   "name": "python3"
  },
  "language_info": {
   "codemirror_mode": {
    "name": "ipython",
    "version": 3
   },
   "file_extension": ".py",
   "mimetype": "text/x-python",
   "name": "python",
   "nbconvert_exporter": "python",
   "pygments_lexer": "ipython3",
   "version": "3.10.6"
  }
 },
 "nbformat": 4,
 "nbformat_minor": 5
}
